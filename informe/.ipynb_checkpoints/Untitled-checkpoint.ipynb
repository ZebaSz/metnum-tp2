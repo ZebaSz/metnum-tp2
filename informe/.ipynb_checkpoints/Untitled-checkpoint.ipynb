{
 "cells": [
  {
   "cell_type": "code",
   "execution_count": 5,
   "metadata": {
    "collapsed": true
   },
   "outputs": [],
   "source": [
    "import pandas as pd\n",
    "import seaborn as sns\n",
    "import matplotlib.pyplot as plt\n",
    "import matplotlib.ticker as ticker\n",
    "import random\n",
    "import numpy as np\n",
    "import json\n",
    "import datetime\n",
    "import scipy\n",
    "from scipy import linspace, polyval, polyfit, sqrt, stats, randn, optimize\n",
    "from pylab import plot, title, show , legend\n",
    "\n",
    "import plotly\n",
    "from plotly.graph_objs import Scatter, Layout"
   ]
  },
  {
   "cell_type": "code",
   "execution_count": 14,
   "metadata": {},
   "outputs": [],
   "source": [
    "#F1 Score key digitos, index alpha\n",
    "d = {'0' : [0.8803, 0.9425, 0.9718, 0.9771, 0.9818, 0.9793, 0.9807, 0.9803, 0.9822, 0.9788, 0.9788, 0.9773],\n",
    "'1' : [0.9303, 0.9660, 0.9698, 0.9746, 0.9702, 0.9707, 0.9673, 0.9669, 0.9627, 0.9590, 0.9547, 0.9532],\n",
    "'2' : [0.6882, 0.9448, 0.9531, 0.9544, 0.9573, 0.9621, 0.9611, 0.9635, 0.9604, 0.9593, 0.9566, 0.9530],\n",
    "'3' : [0.6937, 0.8751, 0.9161, 0.9260, 0.9336, 0.9429, 0.9474, 0.9479, 0.9465, 0.9488, 0.9440, 0.9415],\n",
    "'4' : [0.6087, 0.8705, 0.9174, 0.9417, 0.9468, 0.9534, 0.9494, 0.9556, 0.9494, 0.9542, 0.9540, 0.9532],\n",
    "'5' : [0.6773, 0.9012, 0.9321, 0.9437, 0.9453, 0.9495, 0.9527, 0.9462, 0.9414, 0.9467, 0.9436, 0.9441],\n",
    "'6' : [0.6904, 0.9485, 0.9567, 0.9680, 0.9703, 0.9681, 0.9738, 0.9754, 0.9753, 0.9728, 0.9754, 0.9737],\n",
    "'7' : [0.7668, 0.9286, 0.9419, 0.9559, 0.9523, 0.9595, 0.9596, 0.9558, 0.9557, 0.9529, 0.9490, 0.9499],\n",
    "'8' : [0.6648, 0.8630, 0.9119, 0.9331, 0.9392, 0.9428, 0.9430, 0.9408, 0.9384, 0.9347, 0.9325, 0.9293],\n",
    "'9' : [0.5516, 0.8191, 0.8806, 0.9104, 0.9135, 0.9227, 0.9205, 0.9238, 0.9222, 0.9244, 0.9211, 0.9247]}\n",
    "\n",
    "index = [5,10,15,20,25,30,40,50,60,80,100,150]; \n",
    "df = pd.DataFrame(data=d)\n",
    "df.plot()\n",
    "plt.show()"
   ]
  },
  {
   "cell_type": "code",
   "execution_count": null,
   "metadata": {
    "collapsed": true
   },
   "outputs": [],
   "source": [
    "#Accuaracy \n",
    "index = [5,10,15,20,25,30,40,50,60,80,100,150]; #alpha\n",
    "accuaracy = [0.7193, 0.9073, 0.9360, 0.9490, 0.9514, 0.9554, 0.9558, 0.9560, 0.9538, 0.9535, 0.9513, 0.9503];\n"
   ]
  }
 ],
 "metadata": {
  "kernelspec": {
   "display_name": "Python 3",
   "language": "python",
   "name": "python3"
  },
  "language_info": {
   "codemirror_mode": {
    "name": "ipython",
    "version": 3
   },
   "file_extension": ".py",
   "mimetype": "text/x-python",
   "name": "python",
   "nbconvert_exporter": "python",
   "pygments_lexer": "ipython3",
   "version": "3.5.2+"
  }
 },
 "nbformat": 4,
 "nbformat_minor": 2
}
